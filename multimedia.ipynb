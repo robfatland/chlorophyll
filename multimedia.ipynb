{
 "cells": [
  {
   "cell_type": "markdown",
   "metadata": {},
   "source": [
    "# Introduction\n",
    "\n",
    "\n",
    "The ***Chlorophyll*** repository concerns coastal ocean productivity. It looks at a variety of data sources.\n",
    "This notebook provides context and examples of these data sources via multimedia.\n",
    "\n",
    "\n",
    "## Background plus some ocean data examples\n",
    "\n",
    "    \n",
    "The [Regional Cabled Array](https://interactiveoceans.washington.edu) project -- \n",
    "a part of the [Ocean Observatories Initiative](https://oceanobservatories.org/),\n",
    "is a distributed observatory in the Pacific Ocean off the coast of Oregon state \n",
    "in the US. This observatory features a wide variety of instruments distributed \n",
    "both across the sea floor and in the water column.\n",
    "\n",
    "\n",
    "This observatory being **cabled** means that physical cables carry power from shore\n",
    "out to various instrument clusters; and those same cables return data back to shore\n",
    "for analysis: By scientists, students and in fact by anyone who is interested. This \n",
    "notebook describes the process of finding and interpreting some of this data in the \n",
    "context of chlorophyll, a green pigment essential to photosynthesis, \n",
    "the production of carbohydrates from carbon dioxide, water and sunlight. \n",
    "\n",
    "\n",
    "### What follows next...\n",
    "\n",
    "* Brief video describing the Regional Cabled Array project\n",
    "* Broadband hydrophone in 600 meters depth water off the coast of Oregon\n",
    "* Mean sea level anomaly provided by Oregon State University (NASA data)"
   ]
  },
  {
   "cell_type": "code",
   "execution_count": null,
   "metadata": {},
   "outputs": [],
   "source": [
    "# mini-source control: Last copied 29-SEP-2020: to tilt*, chlorophyll*, rca*, argo*\n",
    "#                      last revised 09-OCT-2020\n",
    "import os, sys, time, glob\n",
    "\n",
    "from IPython.display import clear_output             # use inside loop with clear_output(wait = True) followed by print(i)\n",
    "import warnings                                      # use with warnings.filterwarnings('ignore') or 'once'\n",
    "\n",
    "home_dir = os.getenv(\"HOME\")\n",
    "this_dir = home_dir + '/chlorophyll/'\n",
    "data_dir = '/data/'\n",
    "data1_dir = '/data1'\n",
    "\n",
    "from matplotlib import pyplot as plt\n",
    "from matplotlib import colors as mplcolors\n",
    "import numpy as np, pandas as pd, xarray as xr\n",
    "from numpy import datetime64 as dt64, timedelta64 as td64\n",
    "\n",
    "def doy(theDatetime): return 1 + int((theDatetime - dt64(str(theDatetime)[0:4] + '-01-01')) / td64(1, 'D')) # 1, 2, .... , 365, [366]\n",
    "def dt64_from_doy(year, doy): return dt64(str(year) + '-01-01') + td64(doy-1, 'D')\n",
    "def day_of_month_to_string(d): return str(d) if d > 9 else '0' + str(d)\n",
    "\n",
    "print('\\nJupyter Notebook running Python {}'.format(sys.version_info[0]))"
   ]
  },
  {
   "cell_type": "code",
   "execution_count": null,
   "metadata": {},
   "outputs": [],
   "source": [
    "import os\n",
    "\n",
    "pangeo_jupyter = False\n",
    "home_dir = os.getenv(\"HOME\")\n",
    "this_dir = home_dir + '/chlorophyll/'\n",
    "if pangeo_jupyter: data_dir = home_dir + '/data/'\n",
    "else: data_dir = '/data/'\n",
    "\n",
    "import IPython\n",
    "from IPython.display import YouTubeVideo\n",
    "YouTubeVideo('MLM0fjy8Vz8')"
   ]
  },
  {
   "cell_type": "code",
   "execution_count": null,
   "metadata": {},
   "outputs": [],
   "source": [
    "# IPython.display.Audio(data_dir + \"/hydrophone/hydrophone.mp3\")"
   ]
  },
  {
   "cell_type": "code",
   "execution_count": null,
   "metadata": {},
   "outputs": [],
   "source": [
    "from IPython.display import Video\n",
    "\n",
    "# Video(\"/data/msla/msla.mp4\", embed=True)"
   ]
  },
  {
   "cell_type": "markdown",
   "metadata": {},
   "source": [
    "## VISIONS cruise program: biology and ship photos\n",
    "\n",
    "\n",
    "For one month each summer since 2013 *VISIONS* cruises carry sailors, scientists, engineers, \n",
    "teachers and students out past the continental shelf to Axial seamount, an active underwater \n",
    "volcano 400 miles from Newport Oregon and 7000 feet below the surface of the ocean. \n",
    "In this natural laboratory a remotely operated robot explores the geological, physical, chemical \n",
    "and biological features of the ocean, extending the senses of its human controllers as they \n",
    "build and maintain a permanent scientific presence, the world's most \n",
    "advanced undersea observatory: The [Regional Cabled Array](https://interactiveoceans.washington.edu/).\n",
    "\n",
    "\n",
    "These photos focus on the various creatures living near the surface and down in the depths\n",
    "of the ocean. Many of the photographs in the dark abyss are illuminated by lights clustered\n",
    "about robotic cameras. \n"
   ]
  },
  {
   "cell_type": "code",
   "execution_count": null,
   "metadata": {},
   "outputs": [],
   "source": [
    "import PIL                                   # Python image library\n",
    "from PIL import Image                        #   ...and particularly Image will be useful\n",
    "import pathlib                               # file system navigation library\n",
    "from matplotlib import pyplot as plt         # plotting library\n",
    "from matplotlib.pyplot import imshow         # to render images in a \"plot\" context\n",
    "import numpy as np                           # numerical Python library\n",
    "\n",
    "# magic to include plots within the browser view of this notebook\n",
    "%matplotlib inline\n",
    "\n",
    "# lay out a vertical set of subplots: Each will receive an image from this collection\n",
    "fig, ax = plt.subplots(11, 2, figsize=(32, 110))\n",
    "\n",
    "base_image_dir = '/home/ubuntu/chlorophyll/images/visions/'\n",
    "imagefiles = [\\\n",
    "              'Atlantis.png',\\\n",
    "              'Jason.jpg',\\\n",
    "              'babysittersnails.jpg',\\\n",
    "              'big_red_shr.jpg',\\\n",
    "              'crab_dining_axial.jpg',\\\n",
    "              'flatfish_shr_800m.jpg',\\\n",
    "              'friedegg_jelly.jpg',\\\n",
    "              'huge_rattail_ID_1500m.jpg',\\\n",
    "              'mola-mola.jpg',\\\n",
    "              'pacific_white_sided_dolphins.jpg',\\\n",
    "              'pacificdolphin_closeup.jpg',\\\n",
    "              'pink_anemone.jpg',\\\n",
    "              'pompom_anemone.jpg',\\\n",
    "              'revelle_drone.png',\\\n",
    "              'rockfish_shr.jpg',\\\n",
    "              'shark.jpg',\\\n",
    "              'skate_1756m_axial.jpg',\\\n",
    "              'slopebase_fish_2900m.jpg',\\\n",
    "              'soft_coral.jpg',\\\n",
    "              'sunsetonrevelle.jpg',\\\n",
    "              'thompson.jpg',\\\n",
    "              'yellow_seastar_900m.jpg'\\\n",
    "             ]\n",
    "\n",
    "for i in range(len(imagefiles)):\n",
    "    jindex = int(i/2)\n",
    "    iindex = int(i%2)\n",
    "    pil_image = PIL.Image.open(base_image_dir + imagefiles[i])           # one can append .resize((800, 400), Image.ANTIALIAS) here.\n",
    "    ax[jindex][iindex].imshow(np.asarray(pil_image))   # display\n",
    "    ax[jindex][iindex].axis('off')                     # no need to display axis ticks\n"
   ]
  }
 ],
 "metadata": {
  "kernelspec": {
   "display_name": "Python 3",
   "language": "python",
   "name": "python3"
  },
  "language_info": {
   "codemirror_mode": {
    "name": "ipython",
    "version": 3
   },
   "file_extension": ".py",
   "mimetype": "text/x-python",
   "name": "python",
   "nbconvert_exporter": "python",
   "pygments_lexer": "ipython3",
   "version": "3.8.3"
  }
 },
 "nbformat": 4,
 "nbformat_minor": 4
}
