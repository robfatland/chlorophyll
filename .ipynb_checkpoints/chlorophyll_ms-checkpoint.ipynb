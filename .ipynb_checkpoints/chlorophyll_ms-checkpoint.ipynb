{
 "cells": [
  {
   "cell_type": "markdown",
   "metadata": {},
   "source": [
    "# Chlorophyll\n",
    "\n",
    "<BR>\n",
    "<img src=\"./images/misc/revelle.jpg\" style=\"float: left;\" alt=\"drawing\" width=\"900\"/>\n",
    "<div style=\"clear: left\"><BR>\n",
    "\n",
    "\n",
    "This is the research vessel R/V Revelle at work in the southern ocean near a tabular iceberg. \n",
    "The vessel is just under 100 meters in length. \n",
    "Ninety percent of the iceberg is under the surface of the water. \n",
    "\n",
    "\n",
    "## Introduction\n",
    "\n",
    "    \n",
    "This Jupyter notebook explores the upper 200 meters of the ocean near the coast of Oregon.\n",
    "We are particularly interested in the phytoplankton that use chlorophyll to store energy from the sun.\n",
    "For more on this please visit the [Interactive Oceans](https://interactiveoceans.washington.edu) portal.\n",
    "\n",
    "### Guide to notebook material and intended audience\n",
    "\n",
    "* The narrative here is intended for middle school students. \n",
    "\n",
    "\n",
    "### Locations on a map\n",
    "    \n",
    "    \n",
    "Here are the three data measurement sites within the Regional Cabled Array (RCA)\n",
    "   \n",
    "    \n",
    "Shallow profilers\n",
    "\n",
    "```\n",
    "Site name               Lat               Lon\n",
    "------------------      ---               ---\n",
    "Oregon Offshore         44.37415          -124.95648\n",
    "Oregon Slope Base       44.52897          -125.38966 \n",
    "Axial Base              45.83049          -129.75326\n",
    "```   \n",
    "\n",
    "<BR>\n",
    "<img src=\"https://s3-us-west-2.amazonaws.com/media.ooica.net/wp-content/uploads/2019/01/11005601/screenshot2018-12-07at1.55.21pm.png\"\n",
    " align=\"float: left\"\n",
    " width=\"30%\"\n",
    " alt=\"Regional Cabled Array image\">\n",
    "<BR>\n",
    "\n",
    "A camera is installed on the sea floor by a robot."
   ]
  },
  {
   "cell_type": "code",
   "execution_count": null,
   "metadata": {},
   "outputs": [],
   "source": []
  }
 ],
 "metadata": {
  "kernelspec": {
   "display_name": "Python 3",
   "language": "python",
   "name": "python3"
  },
  "language_info": {
   "codemirror_mode": {
    "name": "ipython",
    "version": 3
   },
   "file_extension": ".py",
   "mimetype": "text/x-python",
   "name": "python",
   "nbconvert_exporter": "python",
   "pygments_lexer": "ipython3",
   "version": "3.8.3"
  }
 },
 "nbformat": 4,
 "nbformat_minor": 4
}
