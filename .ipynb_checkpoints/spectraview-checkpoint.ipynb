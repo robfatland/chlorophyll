{
 "cells": [
  {
   "cell_type": "code",
   "execution_count": null,
   "metadata": {},
   "outputs": [],
   "source": [
    "# mini-source control: Last copied 29-SEP-2020: to tilt*, chlorophyll*, rca*, argo*\n",
    "#                      last revised 09-OCT-2020\n",
    "import os, sys, time, glob\n",
    "\n",
    "from IPython.display import clear_output             # use inside loop with clear_output(wait = True) followed by print(i)\n",
    "import warnings                                      # use with warnings.filterwarnings('ignore') or 'once'\n",
    "\n",
    "home_dir = os.getenv(\"HOME\")\n",
    "this_dir = home_dir + '/chlorophyll/'\n",
    "data_dir = '/data/'\n",
    "data1_dir = '/data1'\n",
    "\n",
    "from matplotlib import pyplot as plt\n",
    "from matplotlib import colors as mplcolors\n",
    "import numpy as np, pandas as pd, xarray as xr\n",
    "from numpy import datetime64 as dt64, timedelta64 as td64\n",
    "\n",
    "def doy(theDatetime): return 1 + int((theDatetime - dt64(str(theDatetime)[0:4] + '-01-01')) / td64(1, 'D')) # 1, 2, .... , 365, [366]\n",
    "def dt64_from_doy(year, doy): return dt64(str(year) + '-01-01') + td64(doy-1, 'D')\n",
    "def day_of_month_to_string(d): return str(d) if d > 9 else '0' + str(d)\n",
    "\n",
    "print('\\nJupyter Notebook running Python {}'.format(sys.version_info[0]))"
   ]
  },
  {
   "cell_type": "code",
   "execution_count": null,
   "metadata": {},
   "outputs": [],
   "source": []
  },
  {
   "cell_type": "markdown",
   "metadata": {},
   "source": []
  },
  {
   "cell_type": "markdown",
   "metadata": {},
   "source": [
    "<BR><img src=\"./baimages/BA_midn_noon_2019_01_01.png\" style=\"float: left;\" alt=\"drawing\" width=\"1800\"/><div style=\"clear: left\">\n",
    "<BR><img src=\"./baimages/BA_midn_noon_2019_01_02.png\" style=\"float: left;\" alt=\"drawing\" width=\"1800\"/><div style=\"clear: left\">\n",
    "<BR><img src=\"./baimages/BA_midn_noon_2019_01_03.png\" style=\"float: left;\" alt=\"drawing\" width=\"1800\"/><div style=\"clear: left\">\n",
    "<BR><img src=\"./baimages/BA_midn_noon_2019_01_04.png\" style=\"float: left;\" alt=\"drawing\" width=\"1800\"/><div style=\"clear: left\">\n",
    "<BR><img src=\"./baimages/BA_midn_noon_2019_01_05.png\" style=\"float: left;\" alt=\"drawing\" width=\"1800\"/><div style=\"clear: left\">\n",
    "<BR><img src=\"./baimages/BA_midn_noon_2019_01_06.png\" style=\"float: left;\" alt=\"drawing\" width=\"1800\"/><div style=\"clear: left\">\n",
    "<BR><img src=\"./baimages/BA_midn_noon_2019_01_07.png\" style=\"float: left;\" alt=\"drawing\" width=\"1800\"/><div style=\"clear: left\">\n",
    "<BR><img src=\"./baimages/BA_midn_noon_2019_01_08.png\" style=\"float: left;\" alt=\"drawing\" width=\"1800\"/><div style=\"clear: left\">\n",
    "<BR><img src=\"./baimages/BA_midn_noon_2019_01_09.png\" style=\"float: left;\" alt=\"drawing\" width=\"1800\"/><div style=\"clear: left\">\n",
    "<BR><img src=\"./baimages/BA_midn_noon_2019_01_10.png\" style=\"float: left;\" alt=\"drawing\" width=\"1800\"/><div style=\"clear: left\">\n",
    "<BR><img src=\"./baimages/BA_midn_noon_2019_01_11.png\" style=\"float: left;\" alt=\"drawing\" width=\"1800\"/><div style=\"clear: left\">\n",
    "<BR><img src=\"./baimages/BA_midn_noon_2019_01_22.png\" style=\"float: left;\" alt=\"drawing\" width=\"1800\"/><div style=\"clear: left\">\n",
    "<BR><img src=\"./baimages/BA_midn_noon_2019_01_13.png\" style=\"float: left;\" alt=\"drawing\" width=\"1800\"/><div style=\"clear: left\">\n",
    "<BR><img src=\"./baimages/BA_midn_noon_2019_01_14.png\" style=\"float: left;\" alt=\"drawing\" width=\"1800\"/><div style=\"clear: left\">\n",
    "<BR><img src=\"./baimages/BA_midn_noon_2019_01_15.png\" style=\"float: left;\" alt=\"drawing\" width=\"1800\"/><div style=\"clear: left\">\n",
    "<BR><img src=\"./baimages/BA_midn_noon_2019_01_16.png\" style=\"float: left;\" alt=\"drawing\" width=\"1800\"/><div style=\"clear: left\">\n",
    "<BR><img src=\"./baimages/BA_midn_noon_2019_01_17.png\" style=\"float: left;\" alt=\"drawing\" width=\"1800\"/><div style=\"clear: left\">\n",
    "<BR><img src=\"./baimages/BA_midn_noon_2019_01_18.png\" style=\"float: left;\" alt=\"drawing\" width=\"1800\"/><div style=\"clear: left\">\n",
    "<BR><img src=\"./baimages/BA_midn_noon_2019_01_19.png\" style=\"float: left;\" alt=\"drawing\" width=\"1800\"/><div style=\"clear: left\">\n",
    "<BR><img src=\"./baimages/BA_midn_noon_2019_01_20.png\" style=\"float: left;\" alt=\"drawing\" width=\"1800\"/><div style=\"clear: left\">\n",
    "<BR><img src=\"./baimages/BA_midn_noon_2019_01_21.png\" style=\"float: left;\" alt=\"drawing\" width=\"1800\"/><div style=\"clear: left\">\n",
    "<BR><img src=\"./baimages/BA_midn_noon_2019_01_22.png\" style=\"float: left;\" alt=\"drawing\" width=\"1800\"/><div style=\"clear: left\">\n",
    "<BR><img src=\"./baimages/BA_midn_noon_2019_01_23.png\" style=\"float: left;\" alt=\"drawing\" width=\"1800\"/><div style=\"clear: left\">\n",
    "<BR><img src=\"./baimages/BA_midn_noon_2019_01_24.png\" style=\"float: left;\" alt=\"drawing\" width=\"1800\"/><div style=\"clear: left\">\n",
    "<BR><img src=\"./baimages/BA_midn_noon_2019_01_25.png\" style=\"float: left;\" alt=\"drawing\" width=\"1800\"/><div style=\"clear: left\">\n",
    "<BR><img src=\"./baimages/BA_midn_noon_2019_01_26.png\" style=\"float: left;\" alt=\"drawing\" width=\"1800\"/><div style=\"clear: left\">\n",
    "<BR><img src=\"./baimages/BA_midn_noon_2019_01_27.png\" style=\"float: left;\" alt=\"drawing\" width=\"1800\"/><div style=\"clear: left\">\n",
    "<BR><img src=\"./baimages/BA_midn_noon_2019_01_28.png\" style=\"float: left;\" alt=\"drawing\" width=\"1800\"/><div style=\"clear: left\">\n",
    "<BR><img src=\"./baimages/BA_midn_noon_2019_01_29.png\" style=\"float: left;\" alt=\"drawing\" width=\"1800\"/><div style=\"clear: left\">\n",
    "<BR><img src=\"./baimages/BA_midn_noon_2019_01_30.png\" style=\"float: left;\" alt=\"drawing\" width=\"1800\"/><div style=\"clear: left\">\n",
    "<BR><img src=\"./baimages/BA_midn_noon_2019_01_31.png\" style=\"float: left;\" alt=\"drawing\" width=\"1800\"/><div style=\"clear: left\">"
   ]
  },
  {
   "cell_type": "code",
   "execution_count": null,
   "metadata": {},
   "outputs": [],
   "source": []
  },
  {
   "cell_type": "code",
   "execution_count": null,
   "metadata": {},
   "outputs": [],
   "source": []
  }
 ],
 "metadata": {
  "kernelspec": {
   "display_name": "Python 3",
   "language": "python",
   "name": "python3"
  },
  "language_info": {
   "codemirror_mode": {
    "name": "ipython",
    "version": 3
   },
   "file_extension": ".py",
   "mimetype": "text/x-python",
   "name": "python",
   "nbconvert_exporter": "python",
   "pygments_lexer": "ipython3",
   "version": "3.8.3"
  }
 },
 "nbformat": 4,
 "nbformat_minor": 4
}
