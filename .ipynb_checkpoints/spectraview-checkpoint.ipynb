{
 "cells": [
  {
   "cell_type": "code",
   "execution_count": null,
   "metadata": {},
   "outputs": [],
   "source": []
  },
  {
   "cell_type": "code",
   "execution_count": null,
   "metadata": {},
   "outputs": [],
   "source": []
  },
  {
   "cell_type": "markdown",
   "metadata": {},
   "source": []
  },
  {
   "cell_type": "markdown",
   "metadata": {},
   "source": [
    "<BR><img src=\"./baimages/BA_midn_noon_2019_01_01.png\" style=\"float: left;\" alt=\"drawing\" width=\"1800\"/><div style=\"clear: left\">\n",
    "<BR><img src=\"./baimages/BA_midn_noon_2019_01_02.png\" style=\"float: left;\" alt=\"drawing\" width=\"1800\"/><div style=\"clear: left\">\n",
    "<BR><img src=\"./baimages/BA_midn_noon_2019_01_03.png\" style=\"float: left;\" alt=\"drawing\" width=\"1800\"/><div style=\"clear: left\">\n",
    "<BR><img src=\"./baimages/BA_midn_noon_2019_01_04.png\" style=\"float: left;\" alt=\"drawing\" width=\"1800\"/><div style=\"clear: left\">\n",
    "<BR><img src=\"./baimages/BA_midn_noon_2019_01_05.png\" style=\"float: left;\" alt=\"drawing\" width=\"1800\"/><div style=\"clear: left\">\n",
    "<BR><img src=\"./baimages/BA_midn_noon_2019_01_06.png\" style=\"float: left;\" alt=\"drawing\" width=\"1800\"/><div style=\"clear: left\">\n",
    "<BR><img src=\"./baimages/BA_midn_noon_2019_01_07.png\" style=\"float: left;\" alt=\"drawing\" width=\"1800\"/><div style=\"clear: left\">\n",
    "<BR><img src=\"./baimages/BA_midn_noon_2019_01_08.png\" style=\"float: left;\" alt=\"drawing\" width=\"1800\"/><div style=\"clear: left\">\n",
    "<BR><img src=\"./baimages/BA_midn_noon_2019_01_09.png\" style=\"float: left;\" alt=\"drawing\" width=\"1800\"/><div style=\"clear: left\">\n",
    "<BR><img src=\"./baimages/BA_midn_noon_2019_01_10.png\" style=\"float: left;\" alt=\"drawing\" width=\"1800\"/><div style=\"clear: left\">\n",
    "<BR><img src=\"./baimages/BA_midn_noon_2019_01_11.png\" style=\"float: left;\" alt=\"drawing\" width=\"1800\"/><div style=\"clear: left\">\n",
    "<BR><img src=\"./baimages/BA_midn_noon_2019_01_22.png\" style=\"float: left;\" alt=\"drawing\" width=\"1800\"/><div style=\"clear: left\">\n",
    "<BR><img src=\"./baimages/BA_midn_noon_2019_01_13.png\" style=\"float: left;\" alt=\"drawing\" width=\"1800\"/><div style=\"clear: left\">\n",
    "<BR><img src=\"./baimages/BA_midn_noon_2019_01_14.png\" style=\"float: left;\" alt=\"drawing\" width=\"1800\"/><div style=\"clear: left\">\n",
    "<BR><img src=\"./baimages/BA_midn_noon_2019_01_15.png\" style=\"float: left;\" alt=\"drawing\" width=\"1800\"/><div style=\"clear: left\">\n",
    "<BR><img src=\"./baimages/BA_midn_noon_2019_01_16.png\" style=\"float: left;\" alt=\"drawing\" width=\"1800\"/><div style=\"clear: left\">\n",
    "<BR><img src=\"./baimages/BA_midn_noon_2019_01_17.png\" style=\"float: left;\" alt=\"drawing\" width=\"1800\"/><div style=\"clear: left\">\n",
    "<BR><img src=\"./baimages/BA_midn_noon_2019_01_18.png\" style=\"float: left;\" alt=\"drawing\" width=\"1800\"/><div style=\"clear: left\">\n",
    "<BR><img src=\"./baimages/BA_midn_noon_2019_01_19.png\" style=\"float: left;\" alt=\"drawing\" width=\"1800\"/><div style=\"clear: left\">\n",
    "<BR><img src=\"./baimages/BA_midn_noon_2019_01_20.png\" style=\"float: left;\" alt=\"drawing\" width=\"1800\"/><div style=\"clear: left\">\n",
    "<BR><img src=\"./baimages/BA_midn_noon_2019_01_21.png\" style=\"float: left;\" alt=\"drawing\" width=\"1800\"/><div style=\"clear: left\">\n",
    "<BR><img src=\"./baimages/BA_midn_noon_2019_01_22.png\" style=\"float: left;\" alt=\"drawing\" width=\"1800\"/><div style=\"clear: left\">\n",
    "<BR><img src=\"./baimages/BA_midn_noon_2019_01_23.png\" style=\"float: left;\" alt=\"drawing\" width=\"1800\"/><div style=\"clear: left\">\n",
    "<BR><img src=\"./baimages/BA_midn_noon_2019_01_24.png\" style=\"float: left;\" alt=\"drawing\" width=\"1800\"/><div style=\"clear: left\">\n",
    "<BR><img src=\"./baimages/BA_midn_noon_2019_01_25.png\" style=\"float: left;\" alt=\"drawing\" width=\"1800\"/><div style=\"clear: left\">\n",
    "<BR><img src=\"./baimages/BA_midn_noon_2019_01_26.png\" style=\"float: left;\" alt=\"drawing\" width=\"1800\"/><div style=\"clear: left\">\n",
    "<BR><img src=\"./baimages/BA_midn_noon_2019_01_27.png\" style=\"float: left;\" alt=\"drawing\" width=\"1800\"/><div style=\"clear: left\">\n",
    "<BR><img src=\"./baimages/BA_midn_noon_2019_01_28.png\" style=\"float: left;\" alt=\"drawing\" width=\"1800\"/><div style=\"clear: left\">\n",
    "<BR><img src=\"./baimages/BA_midn_noon_2019_01_29.png\" style=\"float: left;\" alt=\"drawing\" width=\"1800\"/><div style=\"clear: left\">\n",
    "<BR><img src=\"./baimages/BA_midn_noon_2019_01_30.png\" style=\"float: left;\" alt=\"drawing\" width=\"1800\"/><div style=\"clear: left\">\n",
    "<BR><img src=\"./baimages/BA_midn_noon_2019_01_31.png\" style=\"float: left;\" alt=\"drawing\" width=\"1800\"/><div style=\"clear: left\">"
   ]
  },
  {
   "cell_type": "code",
   "execution_count": null,
   "metadata": {},
   "outputs": [],
   "source": []
  },
  {
   "cell_type": "code",
   "execution_count": null,
   "metadata": {},
   "outputs": [],
   "source": []
  }
 ],
 "metadata": {
  "kernelspec": {
   "display_name": "Python 3",
   "language": "python",
   "name": "python3"
  },
  "language_info": {
   "codemirror_mode": {
    "name": "ipython",
    "version": 3
   },
   "file_extension": ".py",
   "mimetype": "text/x-python",
   "name": "python",
   "nbconvert_exporter": "python",
   "pygments_lexer": "ipython3",
   "version": "3.8.3"
  }
 },
 "nbformat": 4,
 "nbformat_minor": 4
}
