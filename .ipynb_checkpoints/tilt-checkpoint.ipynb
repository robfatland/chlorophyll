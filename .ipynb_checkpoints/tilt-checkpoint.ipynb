{
 "cells": [
  {
   "cell_type": "code",
   "execution_count": 2,
   "metadata": {},
   "outputs": [
    {
     "data": {
      "text/plain": [
       "6"
      ]
     },
     "execution_count": 2,
     "metadata": {},
     "output_type": "execute_result"
    }
   ],
   "source": [
    "from random import randint as r\n",
    "r(3,6)"
   ]
  },
  {
   "cell_type": "code",
   "execution_count": 4,
   "metadata": {},
   "outputs": [
    {
     "name": "stdout",
     "output_type": "stream",
     "text": [
      "[4, 4, 4, 3, 4, 3, 4, 4, 4, 3]\n"
     ]
    }
   ],
   "source": [
    "print([r(3,4) for i in range(10)])"
   ]
  },
  {
   "cell_type": "code",
   "execution_count": 275,
   "metadata": {},
   "outputs": [],
   "source": [
    "def solution(pegs):\n",
    "    n = len(pegs)\n",
    "    p = [pegs[i] - pegs[0] for i in range(n)]           # re-index to p[0] = 0 reference\n",
    "    \n",
    "    if n % 2 == 0: numerator, denominator = p[n-1], 3\n",
    "    else:          numerator, denominator = -p[n-1], 1\n",
    "        \n",
    "    alternating_sum, alternating_sign = 0, 1\n",
    "    for i in range(1, n-1):\n",
    "        alternating_sum += alternating_sign*2*p[i]\n",
    "        alternating_sign *= -1\n",
    "\n",
    "    numerator += alternating_sum\n",
    "    numerator *= 2\n",
    "    \n",
    "    if denominator == 3 and numerator % 3 == 0: numerator, denominator = numerator // 3, 1\n",
    "    if numerator / denominator < 1.: return [-1, -1]\n",
    "    \n",
    "    # check all gears are possible\n",
    "    x = numerator / denominator\n",
    "    for i in range(1, n-1):\n",
    "        this_radius = p[i] - x\n",
    "        if this_radius < 0.: \n",
    "            print('bad gear', i, ':', this_radius, '  w locations:', p[i-1], p[i], p[i+1])\n",
    "            return [-1, -1]\n",
    "        x += 2. * this_radius\n",
    "    if p[n-1] - x != numerator / denominator / 2:\n",
    "        print('bad final gear:', p[n-1] - x, numerator / denominator / 2)\n",
    "        return [-1, -1]\n",
    "        \n",
    "    return [numerator, denominator]"
   ]
  },
  {
   "cell_type": "code",
   "execution_count": 284,
   "metadata": {},
   "outputs": [
    {
     "name": "stdout",
     "output_type": "stream",
     "text": [
      "bad gear 1 : -28.666666666666664   w locations: 0 22 40\n",
      "[5, 27, 45, 85, 90, 113, 114, 129]\n"
     ]
    },
    {
     "data": {
      "text/plain": [
       "[-1, -1]"
      ]
     },
     "execution_count": 284,
     "metadata": {},
     "output_type": "execute_result"
    }
   ],
   "source": [
    "n_pegs = r(2,10)\n",
    "p=[]\n",
    "prior_sum = 0\n",
    "for i in range(n_pegs):\n",
    "    this_delta = r(1,40)\n",
    "    p.append(prior_sum + this_delta)\n",
    "    prior_sum = p[-1]\n",
    "answer = solution(p)\n",
    "print(p)\n",
    "answer"
   ]
  },
  {
   "cell_type": "code",
   "execution_count": null,
   "metadata": {},
   "outputs": [],
   "source": []
  },
  {
   "cell_type": "code",
   "execution_count": null,
   "metadata": {},
   "outputs": [],
   "source": []
  }
 ],
 "metadata": {
  "kernelspec": {
   "display_name": "Python 3",
   "language": "python",
   "name": "python3"
  },
  "language_info": {
   "codemirror_mode": {
    "name": "ipython",
    "version": 3
   },
   "file_extension": ".py",
   "mimetype": "text/x-python",
   "name": "python",
   "nbconvert_exporter": "python",
   "pygments_lexer": "ipython3",
   "version": "3.8.3"
  }
 },
 "nbformat": 4,
 "nbformat_minor": 4
}
