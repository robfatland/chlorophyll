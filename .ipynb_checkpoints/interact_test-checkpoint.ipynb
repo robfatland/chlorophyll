{
 "cells": [
  {
   "cell_type": "code",
   "execution_count": 1,
   "metadata": {},
   "outputs": [
    {
     "name": "stdout",
     "output_type": "stream",
     "text": [
      "Collecting package metadata (current_repodata.json): ...working... done\n",
      "Solving environment: ...working... \n",
      "The environment is inconsistent, please check the package plan carefully\n",
      "The following packages are causing the inconsistency:\n",
      "\n",
      "  - conda-forge/linux-64::cartopy==0.18.0=py37h4b180d9_0\n",
      "  - conda-forge/linux-64::cfitsio==3.470=h3eac812_5\n",
      "  - conda-forge/noarch::contextily==1.0.0=py_0\n",
      "  - conda-forge/linux-64::curl==7.69.1=h33f0ec9_0\n",
      "  - conda-forge/linux-64::fiona==1.8.13=py37h0492a4a_1\n",
      "  - conda-forge/linux-64::gdal==3.0.4=py37h4b180d9_6\n",
      "  - conda-forge/noarch::geopandas==0.7.0=py_1\n",
      "  - conda-forge/linux-64::geotiff==1.5.1=h05acad5_10\n",
      "  - conda-forge/noarch::geoviews==1.8.1=py_0\n",
      "  - conda-forge/noarch::geoviews-core==1.8.1=py_0\n",
      "  - conda-forge/noarch::intake-xarray==0.3.1=py_0\n",
      "  - conda-forge/linux-64::jupyterhub-base==1.1.0=py37_2\n",
      "  - conda-forge/linux-64::jupyterhub-singleuser==1.1.0=py37_2\n",
      "  - conda-forge/linux-64::libcurl==7.69.1=hf7181ac_0\n",
      "  - conda-forge/linux-64::libdap4==3.20.6=h1d1bd15_0\n",
      "  - conda-forge/linux-64::libgdal==3.0.4=h3dfc09a_6\n",
      "  - conda-forge/linux-64::libnetcdf==4.7.4=nompi_h9f9fd6a_101\n",
      "  - conda-forge/linux-64::libspatialite==4.3.0a=h2482549_1038\n",
      "  - conda-forge/linux-64::netcdf4==1.5.3=nompi_py37hec16513_103\n",
      "  - conda-forge/noarch::owslib==0.20.0=py_0\n",
      "  - conda-forge/noarch::pangeo-notebook==2020.06.03=1\n",
      "  - conda-forge/linux-64::poppler==0.67.0=h14e79db_8\n",
      "  - conda-forge/linux-64::proj==7.0.0=h966b41f_4\n",
      "  - conda-forge/linux-64::pycurl==7.43.0.5=py37h16ce93b_0\n",
      "  - conda-forge/linux-64::pyproj==2.6.1.post1=py37h34dd122_0\n",
      "  - conda-forge/linux-64::rasterio==1.1.5=py37h0492a4a_0\n",
      "  - conda-forge/noarch::rasterstats==0.14.0=py_0\n",
      "  - conda-forge/noarch::rio-cogeo==1.1.10=py_0\n",
      "  - conda-forge/noarch::supermercado==0.0.5=py_0\n",
      "  - conda-forge/linux-64::tiledb==1.7.7=h8efa9f0_3\n",
      "done\n",
      "\n",
      "## Package Plan ##\n",
      "\n",
      "  environment location: /srv/conda/envs/notebook\n",
      "\n",
      "  added / updated specs:\n",
      "    - cmocean\n",
      "\n",
      "\n",
      "The following packages will be downloaded:\n",
      "\n",
      "    package                    |            build\n",
      "    ---------------------------|-----------------\n",
      "    c-ares-1.16.1              |       h516909a_3         107 KB  conda-forge\n",
      "    ca-certificates-2020.6.20  |       hecda079_0         145 KB  conda-forge\n",
      "    certifi-2020.6.20          |   py37hc8dfbb8_0         151 KB  conda-forge\n",
      "    cmocean-2.0                |             py_3         178 KB  conda-forge\n",
      "    colorspacious-1.1.2        |     pyh24bf2e0_0          30 KB  conda-forge\n",
      "    curl-7.71.1                |       he644dc0_5         139 KB  conda-forge\n",
      "    libcurl-7.71.1             |       hcdd3856_5         312 KB  conda-forge\n",
      "    libev-4.33                 |       h516909a_1         104 KB  conda-forge\n",
      "    libnghttp2-1.41.0          |       h8cfc5f6_2         774 KB  conda-forge\n",
      "    openssl-1.1.1g             |       h516909a_1         2.1 MB  conda-forge\n",
      "    ------------------------------------------------------------\n",
      "                                           Total:         4.0 MB\n",
      "\n",
      "The following NEW packages will be INSTALLED:\n",
      "\n",
      "  c-ares             conda-forge/linux-64::c-ares-1.16.1-h516909a_3\n",
      "  cmocean            conda-forge/noarch::cmocean-2.0-py_3\n",
      "  colorspacious      conda-forge/noarch::colorspacious-1.1.2-pyh24bf2e0_0\n",
      "  libev              conda-forge/linux-64::libev-4.33-h516909a_1\n",
      "  libnghttp2         conda-forge/linux-64::libnghttp2-1.41.0-h8cfc5f6_2\n",
      "\n",
      "The following packages will be UPDATED:\n",
      "\n",
      "  ca-certificates                     2020.4.5.1-hecc5488_0 --> 2020.6.20-hecda079_0\n",
      "  certifi                         2020.4.5.1-py37hc8dfbb8_0 --> 2020.6.20-py37hc8dfbb8_0\n",
      "  curl                                    7.69.1-h33f0ec9_0 --> 7.71.1-he644dc0_5\n",
      "  libcurl                                 7.69.1-hf7181ac_0 --> 7.71.1-hcdd3856_5\n",
      "  openssl                                 1.1.1g-h516909a_0 --> 1.1.1g-h516909a_1\n",
      "\n",
      "\n",
      "Preparing transaction: ...working... done\n",
      "Verifying transaction: ...working... done\n",
      "Executing transaction: ...working... done\n"
     ]
    }
   ],
   "source": [
    "# for installing slider controllers and so forth... uncomment these two lines\n",
    "from ipywidgets import *\n",
    "from traitlets import dlink\n",
    "\n",
    "# import os\n",
    "# import sys\n",
    "# import requests\n",
    "# import shutil\n",
    "\n",
    "home_dir = os.getenv(\"HOME\")\n",
    "this_dir = home_dir + '/chlorophyll/'\n",
    "data_dir = home_dir + '/data/'\n",
    "\n",
    "!conda install -c conda-forge cmocean -y -q\n",
    "import cmocean         \n",
    "from matplotlib import pyplot as plt\n",
    "# from matplotlib import colors as mplcolors   # map data values to colors\n",
    "# from matplotlib import animation, rc\n",
    "# %matplotlib inline\n",
    "# import numpy as np\n",
    "import xarray as xr"
   ]
  },
  {
   "cell_type": "code",
   "execution_count": 2,
   "metadata": {},
   "outputs": [
    {
     "data": {
      "application/vnd.jupyter.widget-view+json": {
       "model_id": "57497ab3e79b420ea88c21053c8cfd1c",
       "version_major": 2,
       "version_minor": 0
      },
      "text/plain": [
       "interactive(children=(IntSlider(value=5, continuous_update=False, description='depth', max=32), Output()), _do…"
      ]
     },
     "metadata": {},
     "output_type": "display_data"
    },
    {
     "data": {
      "application/vnd.jupyter.widget-view+json": {
       "model_id": "6d45db5746464c2c997130fce79299ac",
       "version_major": 2,
       "version_minor": 0
      },
      "text/plain": [
       "interactive(children=(IntSlider(value=0, continuous_update=False, description='depth', max=32), Output()), _do…"
      ]
     },
     "metadata": {},
     "output_type": "display_data"
    },
    {
     "data": {
      "application/vnd.jupyter.widget-view+json": {
       "model_id": "7e272569b1e8432cb7f89a68adb3c5ab",
       "version_major": 2,
       "version_minor": 0
      },
      "text/plain": [
       "interactive(children=(IntSlider(value=13, continuous_update=False, description='depth', max=32), Output()), _d…"
      ]
     },
     "metadata": {},
     "output_type": "display_data"
    },
    {
     "data": {
      "text/plain": [
       "<function __main__.glodap_pTemp(depth_index)>"
      ]
     },
     "execution_count": 2,
     "metadata": {},
     "output_type": "execute_result"
    }
   ],
   "source": [
    "glodapTemperatureFnm = data_dir + '/glodap/glodap_temperature.nc'\n",
    "glodapSalinityFnm    = data_dir + '/glodap/glodap_salinity.nc'\n",
    "glodapOxygenFnm      = data_dir + '/glodap/glodap_oxygen.nc'\n",
    "\n",
    "glodap_dsSal  = xr.open_mfdataset(glodapSalinityFnm, combine='by_coords')\n",
    "glodap_dsTemp = xr.open_mfdataset(glodapTemperatureFnm, combine='by_coords')\n",
    "glodap_dsO2   = xr.open_mfdataset(glodapOxygenFnm, combine='by_coords')\n",
    "\n",
    "plt.rcParams.update({'font.size': 20})\n",
    "\n",
    "def glodap_pO2(depth_index):\n",
    "    glodap_dsO2['oxygen'].sel(depth_surface = depth_index).plot(figsize=(16, 10),cmap=cmocean.cm.oxy,vmin=150, vmax=350)\n",
    "    if depth_index == 0: msg = 'This is for surface water'\n",
    "    else:                msg = 'This is for water at ' + str(int(glodap_dsO2['Depth'].values[depth_index])) + ' meters depth'\n",
    "    plt.text(25, -87, msg); plt.text(28, 50, 'oxygen dissolved in'); plt.text(28, 42, '     ocean water   ')\n",
    "\n",
    "def glodap_pSal(depth_index):\n",
    "    glodap_dsSal['salinity'].sel(depth_surface = depth_index).plot(figsize=(16, 10),cmap=cmocean.cm.haline,vmin=33, vmax=36)\n",
    "    if depth_index == 0:msg = 'This is for surface water'\n",
    "    else: msg = 'This is for water at ' + str(int(glodap_dsSal['Depth'].values[depth_index])) + ' meters depth'\n",
    "    plt.text(25, -87, msg); plt.text(47, 50, 'salinity of'); plt.text(47, 42, 'ocean water')\n",
    "\n",
    "def glodap_pTemp(depth_index):\n",
    "    glodap_dsTemp['temperature'].sel(depth_surface = depth_index).plot(figsize=(16, 10),cmap=cmocean.cm.thermal,vmin=2., vmax=10.)\n",
    "    if depth_index == 0: msg = 'This is for surface water'\n",
    "    else: msg = 'This is for water at ' + str(int(glodap_dsTemp['Depth'].values[depth_index])) + ' meters depth'\n",
    "    plt.text(25, -87, msg); plt.text(47, 50, 'temperature of'); plt.text(47, 42, 'ocean water')\n",
    "\n",
    "interact(glodap_pO2,   depth_index=widgets.IntSlider(min=0, max=32, step=1, value=5,  continuous_update=False, description='depth'))\n",
    "interact(glodap_pSal,  depth_index=widgets.IntSlider(min=0, max=32, step=1, value=0,  continuous_update=False, description='depth'))\n",
    "interact(glodap_pTemp, depth_index=widgets.IntSlider(min=0, max=32, step=1, value=13, continuous_update=False, description='depth')) "
   ]
  },
  {
   "cell_type": "code",
   "execution_count": null,
   "metadata": {},
   "outputs": [],
   "source": []
  }
 ],
 "metadata": {
  "kernelspec": {
   "display_name": "Python 3",
   "language": "python",
   "name": "python3"
  },
  "language_info": {
   "codemirror_mode": {
    "name": "ipython",
    "version": 3
   },
   "file_extension": ".py",
   "mimetype": "text/x-python",
   "name": "python",
   "nbconvert_exporter": "python",
   "pygments_lexer": "ipython3",
   "version": "3.7.6"
  }
 },
 "nbformat": 4,
 "nbformat_minor": 4
}
