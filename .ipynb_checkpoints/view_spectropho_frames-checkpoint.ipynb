{
 "cells": [
  {
   "cell_type": "code",
   "execution_count": 1,
   "metadata": {},
   "outputs": [
    {
     "name": "stdout",
     "output_type": "stream",
     "text": [
      "\u001b[0m\u001b[01;35mBA_midn_noon_2019_01_01.png\u001b[0m  \u001b[01;35mBA_midn_noon_2019_01_09.png\u001b[0m\n",
      "\u001b[01;35mBA_midn_noon_2019_01_02.png\u001b[0m  \u001b[01;35mBA_midn_noon_2019_01_10.png\u001b[0m\n",
      "\u001b[01;35mBA_midn_noon_2019_01_03.png\u001b[0m  \u001b[01;35mBA_midn_noon_2019_01_11.png\u001b[0m\n",
      "\u001b[01;35mBA_midn_noon_2019_01_04.png\u001b[0m  \u001b[01;35mBA_midn_noon_2019_01_12.png\u001b[0m\n",
      "\u001b[01;35mBA_midn_noon_2019_01_05.png\u001b[0m  \u001b[01;35mBA_midn_noon_2019_01_13.png\u001b[0m\n",
      "\u001b[01;35mBA_midn_noon_2019_01_06.png\u001b[0m  \u001b[01;35mBA_midn_noon_2019_01_14.png\u001b[0m\n",
      "\u001b[01;35mBA_midn_noon_2019_01_07.png\u001b[0m  \u001b[01;35mBA_midn_noon_2019_01_15.png\u001b[0m\n",
      "\u001b[01;35mBA_midn_noon_2019_01_08.png\u001b[0m  \u001b[01;35mBA_midn_noon_2019_01_16.png\u001b[0m\n"
     ]
    }
   ],
   "source": [
    "ls /data1/optaa"
   ]
  },
  {
   "cell_type": "code",
   "execution_count": 2,
   "metadata": {},
   "outputs": [
    {
     "name": "stdout",
     "output_type": "stream",
     "text": [
      "/home/ubuntu/chlorophyll\n"
     ]
    }
   ],
   "source": [
    "!pwd"
   ]
  },
  {
   "cell_type": "code",
   "execution_count": 3,
   "metadata": {},
   "outputs": [
    {
     "name": "stdout",
     "output_type": "stream",
     "text": [
      "LICENSE                       golive_library.py\n",
      "README.md                     \u001b[0m\u001b[01;34mimages\u001b[0m/\n",
      "\u001b[01;34m__pycache__\u001b[0m/                  instructions.md\n",
      "animation.ipynb               mechanics.ipynb\n",
      "argo.ipynb                    modis.ipynb\n",
      "argofetch.ipynb               multimedia.ipynb\n",
      "ba_midnight_ascent.csv        pressure_data.csv\n",
      "ba_noon_ascent.csv            rca.ipynb\n",
      "chlorophyll.ipynb             rcafetch.ipynb\n",
      "chlorophyll_background.ipynb  \u001b[01;34mtechnical\u001b[0m/\n",
      "chlorophyll_ms.ipynb          tilt.ipynb\n",
      "chlorophyll_science.ipynb     tilt_background.ipynb\n",
      "ctdcasts_visions2019.csv      tilt_ms.ipynb\n",
      "dask_tutorial.ipynb           \u001b[01;34mvideo\u001b[0m/\n",
      "data_filename_notes.txt       view_spectropho_frames.ipynb\n",
      "fubar_first_few               wget-log\n",
      "fubar_the_rest                wget_botpt_data\n",
      "glodap.ipynb\n"
     ]
    }
   ],
   "source": [
    "ls"
   ]
  },
  {
   "cell_type": "markdown",
   "metadata": {},
   "source": [
    "<BR>\n",
    "<img src=\"./../../../data1/optaa/BA_midn_noon_2019_01_01.png\" style=\"float: left;\" alt=\"drawing\" width=\"1800\"/>\n",
    "<div style=\"clear: left\">\n",
    "<BR>"
   ]
  },
  {
   "cell_type": "markdown",
   "metadata": {},
   "source": [
    "<BR><img src=\"/data1/optaa/BA_midn_noon_2019_01_02.png\" style=\"float: left;\" alt=\"drawing\" width=\"1800\"/><div style=\"clear: left\"><BR>\n",
    "<BR><img src=\"/data1/optaa/BA_midn_noon_2019_01_03.png\" style=\"float: left;\" alt=\"drawing\" width=\"1800\"/><div style=\"clear: left\"><BR>\n",
    "<BR><img src=\"/data1/optaa/BA_midn_noon_2019_01_04.png\" style=\"float: left;\" alt=\"drawing\" width=\"1800\"/><div style=\"clear: left\"><BR>\n",
    "<BR><img src=\"/data1/optaa/BA_midn_noon_2019_01_05.png\" style=\"float: left;\" alt=\"drawing\" width=\"1800\"/><div style=\"clear: left\"><BR>\n",
    "<BR><img src=\"/data1/optaa/BA_midn_noon_2019_01_06.png\" style=\"float: left;\" alt=\"drawing\" width=\"1800\"/><div style=\"clear: left\"><BR>\n",
    "<BR><img src=\"/data1/optaa/BA_midn_noon_2019_01_07.png\" style=\"float: left;\" alt=\"drawing\" width=\"1800\"/><div style=\"clear: left\"><BR>\n",
    "<BR><img src=\"/data1/optaa/BA_midn_noon_2019_01_08.png\" style=\"float: left;\" alt=\"drawing\" width=\"1800\"/><div style=\"clear: left\"><BR>\n",
    "<BR><img src=\"/data1/optaa/BA_midn_noon_2019_01_09.png\" style=\"float: left;\" alt=\"drawing\" width=\"1800\"/><div style=\"clear: left\"><BR>\n",
    "<BR><img src=\"/data1/optaa/BA_midn_noon_2019_01_10.png\" style=\"float: left;\" alt=\"drawing\" width=\"1800\"/><div style=\"clear: left\"><BR>\n",
    "<BR><img src=\"/data1/optaa/BA_midn_noon_2019_01_11.png\" style=\"float: left;\" alt=\"drawing\" width=\"1800\"/><div style=\"clear: left\"><BR>\n",
    "<BR><img src=\"/data1/optaa/BA_midn_noon_2019_01_12.png\" style=\"float: left;\" alt=\"drawing\" width=\"1800\"/><div style=\"clear: left\"><BR>\n",
    "<BR><img src=\"/data1/optaa/BA_midn_noon_2019_01_13.png\" style=\"float: left;\" alt=\"drawing\" width=\"1800\"/><div style=\"clear: left\"><BR>\n",
    "<BR><img src=\"/data1/optaa/BA_midn_noon_2019_01_14.png\" style=\"float: left;\" alt=\"drawing\" width=\"1800\"/><div style=\"clear: left\"><BR>\n",
    "<BR><img src=\"/data1/optaa/BA_midn_noon_2019_01_15.png\" style=\"float: left;\" alt=\"drawing\" width=\"1800\"/><div style=\"clear: left\"><BR>\n",
    "<BR><img src=\"/data1/optaa/BA_midn_noon_2019_01_16.png\" style=\"float: left;\" alt=\"drawing\" width=\"1800\"/><div style=\"clear: left\"><BR>"
   ]
  },
  {
   "cell_type": "markdown",
   "metadata": {},
   "source": [
    "<BR>\n",
    "<img src=\"./tmp.png\" style=\"float: left;\" alt=\"drawing\" width=\"1800\"/>\n",
    "<div style=\"clear: left\">\n",
    "<BR>"
   ]
  },
  {
   "cell_type": "markdown",
   "metadata": {},
   "source": [
    "<BR>\n",
    "<img src=\"./BA_midn_noon_2019_01_03.png\" style=\"float: left;\" alt=\"drawing\" width=\"1800\"/>\n",
    "<div style=\"clear: left\">\n",
    "<BR>"
   ]
  },
  {
   "cell_type": "markdown",
   "metadata": {},
   "source": [
    "<BR>\n",
    "<img src=\"./BA_midn_noon_2019_01_04.png\" style=\"float: left;\" alt=\"drawing\" width=\"1800\"/>\n",
    "<div style=\"clear: left\">\n",
    "<BR>"
   ]
  },
  {
   "cell_type": "markdown",
   "metadata": {},
   "source": [
    "<BR>\n",
    "<img src=\"./BA_midn_noon_2019_01_05.png\" style=\"float: left;\" alt=\"drawing\" width=\"1800\"/>\n",
    "<div style=\"clear: left\">\n",
    "<BR>"
   ]
  },
  {
   "cell_type": "markdown",
   "metadata": {},
   "source": [
    "<BR>\n",
    "<img src=\"./BA_midn_noon_2019_01_06.png\" style=\"float: left;\" alt=\"drawing\" width=\"1800\"/>\n",
    "<div style=\"clear: left\">\n",
    "<BR>"
   ]
  },
  {
   "cell_type": "markdown",
   "metadata": {},
   "source": [
    "<BR>\n",
    "<img src=\"./BA_midn_noon_2019_01_07.png\" style=\"float: left;\" alt=\"drawing\" width=\"1800\"/>\n",
    "<div style=\"clear: left\">\n",
    "<BR>"
   ]
  },
  {
   "cell_type": "markdown",
   "metadata": {},
   "source": [
    "<BR>\n",
    "<img src=\"./BA_midn_noon_2019_01_08.png\" style=\"float: left;\" alt=\"drawing\" width=\"1800\"/>\n",
    "<div style=\"clear: left\">\n",
    "<BR>"
   ]
  },
  {
   "cell_type": "markdown",
   "metadata": {},
   "source": [
    "<BR>\n",
    "<img src=\"./BA_midn_noon_2019_01_09.png\" style=\"float: left;\" alt=\"drawing\" width=\"1800\"/>\n",
    "<div style=\"clear: left\">\n",
    "<BR>"
   ]
  },
  {
   "cell_type": "markdown",
   "metadata": {},
   "source": [
    "<BR>\n",
    "<img src=\"./BA_midn_noon_2019_01_10.png\" style=\"float: left;\" alt=\"drawing\" width=\"1800\"/>\n",
    "<div style=\"clear: left\">\n",
    "<BR>"
   ]
  },
  {
   "cell_type": "markdown",
   "metadata": {},
   "source": [
    "<BR>\n",
    "<img src=\"./BA_midn_noon_2019_01_11.png\" style=\"float: left;\" alt=\"drawing\" width=\"1800\"/>\n",
    "<div style=\"clear: left\">\n",
    "<BR>"
   ]
  },
  {
   "cell_type": "markdown",
   "metadata": {},
   "source": [
    "<BR>\n",
    "<img src=\"./BA_midn_noon_2019_01_12.png\" style=\"float: left;\" alt=\"drawing\" width=\"1800\"/>\n",
    "<div style=\"clear: left\">\n",
    "<BR>"
   ]
  },
  {
   "cell_type": "markdown",
   "metadata": {},
   "source": [
    "<BR>\n",
    "<img src=\"./BA_midn_noon_2019_01_13.png\" style=\"float: left;\" alt=\"drawing\" width=\"1800\"/>\n",
    "<div style=\"clear: left\">\n",
    "<BR>"
   ]
  },
  {
   "cell_type": "markdown",
   "metadata": {},
   "source": [
    "<BR>\n",
    "<img src=\"./BA_midn_noon_2019_01_14.png\" style=\"float: left;\" alt=\"drawing\" width=\"1800\"/>\n",
    "<div style=\"clear: left\">\n",
    "<BR>"
   ]
  },
  {
   "cell_type": "markdown",
   "metadata": {},
   "source": [
    "<BR>\n",
    "<img src=\"./BA_midn_noon_2019_01_15.png\" style=\"float: left;\" alt=\"drawing\" width=\"1800\"/>\n",
    "<div style=\"clear: left\">\n",
    "<BR>"
   ]
  },
  {
   "cell_type": "markdown",
   "metadata": {},
   "source": [
    "<BR>\n",
    "<img src=\"./BA_midn_noon_2019_01_16.png\" style=\"float: left;\" alt=\"drawing\" width=\"1800\"/>\n",
    "<div style=\"clear: left\">\n",
    "<BR>"
   ]
  },
  {
   "cell_type": "markdown",
   "metadata": {},
   "source": [
    "<BR>\n",
    "<img src=\"./BA_midn_noon_2019_01_17.png\" style=\"float: left;\" alt=\"drawing\" width=\"1800\"/>\n",
    "<div style=\"clear: left\">\n",
    "<BR>"
   ]
  },
  {
   "cell_type": "markdown",
   "metadata": {},
   "source": [
    "<BR>\n",
    "<img src=\"./BA_midn_noon_2019_01_18.png\" style=\"float: left;\" alt=\"drawing\" width=\"1800\"/>\n",
    "<div style=\"clear: left\">\n",
    "<BR>"
   ]
  },
  {
   "cell_type": "markdown",
   "metadata": {},
   "source": [
    "<BR>\n",
    "<img src=\"./BA_midn_noon_2019_01_19.png\" style=\"float: left;\" alt=\"drawing\" width=\"1800\"/>\n",
    "<div style=\"clear: left\">\n",
    "<BR>"
   ]
  },
  {
   "cell_type": "markdown",
   "metadata": {},
   "source": [
    "<BR>\n",
    "<img src=\"./BA_midn_noon_2019_01_20.png\" style=\"float: left;\" alt=\"drawing\" width=\"1800\"/>\n",
    "<div style=\"clear: left\">\n",
    "<BR>"
   ]
  },
  {
   "cell_type": "markdown",
   "metadata": {},
   "source": [
    "<BR>\n",
    "<img src=\"./BA_midn_noon_2019_01_21.png\" style=\"float: left;\" alt=\"drawing\" width=\"1800\"/>\n",
    "<div style=\"clear: left\">\n",
    "<BR>"
   ]
  },
  {
   "cell_type": "markdown",
   "metadata": {},
   "source": [
    "<BR>\n",
    "<img src=\"./BA_midn_noon_2019_01_22.png\" style=\"float: left;\" alt=\"drawing\" width=\"1800\"/>\n",
    "<div style=\"clear: left\">\n",
    "<BR>"
   ]
  },
  {
   "cell_type": "markdown",
   "metadata": {},
   "source": [
    "<BR>\n",
    "<img src=\"./BA_midn_noon_2019_01_23.png\" style=\"float: left;\" alt=\"drawing\" width=\"1800\"/>\n",
    "<div style=\"clear: left\">\n",
    "<BR>"
   ]
  },
  {
   "cell_type": "markdown",
   "metadata": {},
   "source": [
    "<BR>\n",
    "<img src=\"./BA_midn_noon_2019_01_24.png\" style=\"float: left;\" alt=\"drawing\" width=\"1800\"/>\n",
    "<div style=\"clear: left\">\n",
    "<BR>"
   ]
  },
  {
   "cell_type": "markdown",
   "metadata": {},
   "source": [
    "<BR>\n",
    "<img src=\"./BA_midn_noon_2019_01_25.png\" style=\"float: left;\" alt=\"drawing\" width=\"1800\"/>\n",
    "<div style=\"clear: left\">\n",
    "<BR>"
   ]
  },
  {
   "cell_type": "markdown",
   "metadata": {},
   "source": [
    "<BR>\n",
    "<img src=\"./BA_midn_noon_2019_01_26.png\" style=\"float: left;\" alt=\"drawing\" width=\"1800\"/>\n",
    "<div style=\"clear: left\">\n",
    "<BR>"
   ]
  },
  {
   "cell_type": "markdown",
   "metadata": {},
   "source": [
    "<BR>\n",
    "<img src=\"./BA_midn_noon_2019_01_27.png\" style=\"float: left;\" alt=\"drawing\" width=\"1800\"/>\n",
    "<div style=\"clear: left\">\n",
    "<BR>"
   ]
  },
  {
   "cell_type": "markdown",
   "metadata": {},
   "source": [
    "<BR>\n",
    "<img src=\"./BA_midn_noon_2019_01_28.png\" style=\"float: left;\" alt=\"drawing\" width=\"1800\"/>\n",
    "<div style=\"clear: left\">\n",
    "<BR>"
   ]
  },
  {
   "cell_type": "markdown",
   "metadata": {},
   "source": [
    "<BR>\n",
    "<img src=\"./BA_midn_noon_2019_01_29.png\" style=\"float: left;\" alt=\"drawing\" width=\"1800\"/>\n",
    "<div style=\"clear: left\">\n",
    "<BR>"
   ]
  },
  {
   "cell_type": "markdown",
   "metadata": {},
   "source": [
    "<BR>\n",
    "<img src=\"./BA_midn_noon_2019_01_30.png\" style=\"float: left;\" alt=\"drawing\" width=\"1800\"/>\n",
    "<div style=\"clear: left\">\n",
    "<BR>"
   ]
  },
  {
   "cell_type": "markdown",
   "metadata": {},
   "source": [
    "<BR>\n",
    "<img src=\"./BA_midn_noon_2019_01_31.png\" style=\"float: left;\" alt=\"drawing\" width=\"1800\"/>\n",
    "<div style=\"clear: left\">\n",
    "<BR>"
   ]
  },
  {
   "cell_type": "markdown",
   "metadata": {},
   "source": []
  },
  {
   "cell_type": "markdown",
   "metadata": {},
   "source": []
  },
  {
   "cell_type": "markdown",
   "metadata": {},
   "source": []
  }
 ],
 "metadata": {
  "kernelspec": {
   "display_name": "Python 3",
   "language": "python",
   "name": "python3"
  },
  "language_info": {
   "codemirror_mode": {
    "name": "ipython",
    "version": 3
   },
   "file_extension": ".py",
   "mimetype": "text/x-python",
   "name": "python",
   "nbconvert_exporter": "python",
   "pygments_lexer": "ipython3",
   "version": "3.8.3"
  }
 },
 "nbformat": 4,
 "nbformat_minor": 4
}
