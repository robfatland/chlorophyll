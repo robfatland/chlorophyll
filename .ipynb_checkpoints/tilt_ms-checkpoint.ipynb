{
 "cells": [
  {
   "cell_type": "markdown",
   "metadata": {},
   "source": [
    "# Tilt\n",
    "\n",
    "This chapter is about a volcano that erupts regularly off the coast of Oregon state. "
   ]
  },
  {
   "cell_type": "code",
   "execution_count": 1,
   "metadata": {},
   "outputs": [
    {
     "name": "stdout",
     "output_type": "stream",
     "text": [
      "\n",
      "Jupyter Notebook running Python 3\n",
      "the data directory is /data/ \n",
      "\n"
     ]
    }
   ],
   "source": [
    "# mini-source control: Last copied 29-SEP-2020: to tilt*, chlorophyll*, rca*, argo*\n",
    "#                      last revised 09-OCT-2020\n",
    "import os, sys, time, glob\n",
    "\n",
    "from IPython.display import clear_output             # use inside loop with clear_output(wait = True) followed by print(i)\n",
    "import warnings                                      # use with warnings.filterwarnings('ignore') or 'once'\n",
    "\n",
    "home_dir = os.getenv(\"HOME\")\n",
    "this_dir = home_dir + '/chlorophyll/'\n",
    "data_dir = '/data/'\n",
    "data1_dir = '/data1'\n",
    "\n",
    "from matplotlib import pyplot as plt\n",
    "from matplotlib import colors as mplcolors\n",
    "import numpy as np, pandas as pd, xarray as xr\n",
    "from numpy import datetime64 as dt64, timedelta64 as td64\n",
    "\n",
    "def doy(theDatetime): return 1 + int((theDatetime - dt64(str(theDatetime)[0:4] + '-01-01')) / td64(1, 'D')) # 1, 2, .... , 365, [366]\n",
    "def dt64_from_doy(year, doy): return dt64(str(year) + '-01-01') + td64(doy-1, 'D')\n",
    "def day_of_month_to_string(d): return str(d) if d > 9 else '0' + str(d)\n",
    "\n",
    "print('\\nJupyter Notebook running Python {}'.format(sys.version_info[0]))"
   ]
  },
  {
   "cell_type": "code",
   "execution_count": null,
   "metadata": {},
   "outputs": [],
   "source": []
  }
 ],
 "metadata": {
  "kernelspec": {
   "display_name": "Python 3",
   "language": "python",
   "name": "python3"
  },
  "language_info": {
   "codemirror_mode": {
    "name": "ipython",
    "version": 3
   },
   "file_extension": ".py",
   "mimetype": "text/x-python",
   "name": "python",
   "nbconvert_exporter": "python",
   "pygments_lexer": "ipython3",
   "version": "3.8.3"
  }
 },
 "nbformat": 4,
 "nbformat_minor": 4
}
