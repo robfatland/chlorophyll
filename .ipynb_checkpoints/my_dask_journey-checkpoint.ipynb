{
 "cells": [
  {
   "cell_type": "markdown",
   "metadata": {},
   "source": [
    "# My Dask Journey\n",
    "\n",
    "I thought it might be of value (after some encouragement) to write down impressions on learning dask and xarray; \n",
    "essential elements together with Intake-STAC of the Pangeo stack.\n",
    "\n",
    "\n",
    "## Preamble \n",
    "\n",
    "\n",
    "First I logged in to my Pangeo Jupyter Lab environment and grabbed the dask tutorial\n",
    "\n",
    "\n",
    "```\n",
    "clone https://github.com/dask/dask-tutorial\n",
    "```\n",
    "\n"
   ]
  },
  {
   "cell_type": "markdown",
   "metadata": {},
   "source": [
    "I find that `dask.delayed` is a *decorator* so here is what that means:\n",
    "\n",
    "> A decorator is a design pattern in Python that allows a user to add new functionality to an \n",
    "existing object without modifying its structure. Decorators are usually called before the \n",
    "definition of a function you want to decorate. [...] **Functions in Python [...] support operations \n",
    "such as being passed as an argument, returned from a function, modified, and assigned \n",
    "to a variable.**"
   ]
  },
  {
   "cell_type": "markdown",
   "metadata": {},
   "source": [
    "Need graphviz to see the graphs...\n",
    "\n",
    "```\n",
    "conda install graphviz\n",
    "```\n",
    "\n",
    "\n",
    "and then as it still seemed to be non-working...\n",
    "\n",
    "\n",
    "```\n",
    "pip install graphviz\n",
    "```\n",
    "\n",
    "It *seemed* like both were necessary but that seems odd... maybe just the `conda install` is all that was needed. Anyway now I have graphs that illustrate dask's thinking. \n"
   ]
  },
  {
   "cell_type": "markdown",
   "metadata": {},
   "source": [
    "## Impressions of `dask.delayed`\n",
    "\n",
    "To understand the second and third examples I'm matching `delayed` mentally to any compute-heavy task.\n",
    "Here that means anything with a built-in `sleep(1)` to mimic a lot of work. So write out sequential code\n",
    "and stick `delayed(xxx)` around any slow `xxx()`. That's the recipe but it misses the implicit finesse \n",
    "from the narrative. I think this is 'consider the graph as *built instantaneously then executing via\n",
    "parallel resources'. "
   ]
  },
  {
   "cell_type": "code",
   "execution_count": null,
   "metadata": {},
   "outputs": [],
   "source": []
  }
 ],
 "metadata": {
  "kernelspec": {
   "display_name": "Python 3",
   "language": "python",
   "name": "python3"
  },
  "language_info": {
   "codemirror_mode": {
    "name": "ipython",
    "version": 3
   },
   "file_extension": ".py",
   "mimetype": "text/x-python",
   "name": "python",
   "nbconvert_exporter": "python",
   "pygments_lexer": "ipython3",
   "version": "3.7.3"
  }
 },
 "nbformat": 4,
 "nbformat_minor": 4
}
