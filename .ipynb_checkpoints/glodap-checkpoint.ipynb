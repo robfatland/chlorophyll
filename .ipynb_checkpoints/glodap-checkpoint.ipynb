{
 "cells": [
  {
   "cell_type": "markdown",
   "metadata": {},
   "source": [
    "# Exploring GLODAP data\n",
    "\n",
    "We are interested in the global ocean as a reservoir of heat, oxygen and salt. These are baseline characteristics\n",
    "that help us understand how the ocean works. \n",
    "\n",
    "\n",
    "## Technical notes\n",
    "\n",
    "In some cases it may be necessary to enable the Jupyter notebook extension for widgets. \n",
    "From the command line issue `jupyter nbextension enable --py widgetsnbextension`.\n",
    "\n",
    "\n",
    "The data files reside either in a dedicated data filesystem `/data` or in a data subfolder of the user's home directory. \n",
    "Respectively these are for the dedicated VM and the JupyterHub pod user scenarios respectively. There are some \n",
    "corresponding either/or elements of the procedures.  \n",
    "\n",
    "\n",
    "Is the `cmocean` install necessary? Is the `boto` install necessary? It depends again: For JupyterHub pods: Likely necessary. \n",
    "For a pre-configured machine image (the dedicated Virtual Machine scenario): Likely unnecessary since these can be installed\n",
    "when preparing the VM for the image snapshot. \n",
    "\n",
    "\n",
    "On interactive widgets: `https://towardsdatascience.com/bring-your-jupyter-notebook-to-life-with-interactive-widgets-bc12e03f0916`\n",
    "\n",
    "On [GLODAP](https://en.wikipedia.org/wiki/Global_Ocean_Data_Analysis_Project): The data are a snapshot description\n",
    "of the state of the ocean. It is based upon observational data spanning several decades. Here we are interested in \n",
    "salinity, temperature and dissolved oxygen as functions of depth and location.\n",
    "\n",
    "\n",
    "The data are coarse resolution in the map plane and are located non-linearly in depth. Each slider setting prints\n",
    "the corresponding current depth of the data view on the plot. "
   ]
  },
  {
   "cell_type": "code",
   "execution_count": 1,
   "metadata": {},
   "outputs": [
    {
     "name": "stdout",
     "output_type": "stream",
     "text": [
      "\n",
      "Jupyter Notebook running Python 3\n"
     ]
    }
   ],
   "source": [
    "# mini-source control: Last copied 29-SEP-2020: to tilt*, chlorophyll*, rca*, argo*\n",
    "#                      last revised 09-OCT-2020\n",
    "import os, sys, time, glob\n",
    "\n",
    "from IPython.display import clear_output             # use inside loop with clear_output(wait = True) followed by print(i)\n",
    "import warnings                                      # use with warnings.filterwarnings('ignore') or 'once'\n",
    "\n",
    "home_dir = os.getenv(\"HOME\")\n",
    "this_dir = home_dir + '/chlorophyll/'\n",
    "data_dir = '/data/'\n",
    "data1_dir = '/data1'\n",
    "\n",
    "from matplotlib import pyplot as plt\n",
    "from matplotlib import colors as mplcolors\n",
    "import numpy as np, pandas as pd, xarray as xr\n",
    "from numpy import datetime64 as dt64, timedelta64 as td64\n",
    "\n",
    "def doy(theDatetime): return 1 + int((theDatetime - dt64(str(theDatetime)[0:4] + '-01-01')) / td64(1, 'D')) # 1, 2, .... , 365, [366]\n",
    "def dt64_from_doy(year, doy): return dt64(str(year) + '-01-01') + td64(doy-1, 'D')\n",
    "def day_of_month_to_string(d): return str(d) if d > 9 else '0' + str(d)\n",
    "\n",
    "print('\\nJupyter Notebook running Python {}'.format(sys.version_info[0]))"
   ]
  },
  {
   "cell_type": "code",
   "execution_count": 2,
   "metadata": {},
   "outputs": [],
   "source": [
    "######################\n",
    "#\n",
    "# preparation to use the 'cmocean' colortables\n",
    "#\n",
    "######################\n",
    "\n",
    "# !conda install -c conda-forge cmocean -y -q"
   ]
  },
  {
   "cell_type": "code",
   "execution_count": 3,
   "metadata": {},
   "outputs": [],
   "source": [
    "######################\n",
    "#\n",
    "# preparation for the glodap explorer (next cell)\n",
    "#\n",
    "######################\n",
    "\n",
    "from ipywidgets import *\n",
    "from traitlets import dlink\n",
    "\n",
    "# 'import os' is not necessary: It happens in the code above...\n",
    "\n",
    "pangeo_jupyter = False\n",
    "home_dir = os.getenv(\"HOME\")\n",
    "this_dir = home_dir + '/chlorophyll/'\n",
    "if pangeo_jupyter: data_dir = home_dir + '/data/'\n",
    "else: data_dir = '/data/'\n",
    "\n",
    "\n",
    "# if the following import fails: Run the cell above\n",
    "import cmocean\n",
    "\n",
    "from matplotlib import pyplot as plt\n",
    "\n",
    "# not needed:\n",
    "# from matplotlib import colors as mplcolors   # map data values to colors\n",
    "# from matplotlib import animation, rc\n",
    "# %matplotlib inline\n",
    "# import numpy as np\n",
    "\n",
    "import xarray as xr"
   ]
  },
  {
   "cell_type": "code",
   "execution_count": 4,
   "metadata": {},
   "outputs": [],
   "source": [
    "%matplotlib inline"
   ]
  },
  {
   "cell_type": "code",
   "execution_count": 6,
   "metadata": {},
   "outputs": [
    {
     "data": {
      "application/vnd.jupyter.widget-view+json": {
       "model_id": "fabd94bf9b3a4f31918a74541fd9b09e",
       "version_major": 2,
       "version_minor": 0
      },
      "text/plain": [
       "interactive(children=(IntSlider(value=5, continuous_update=False, description='depth', max=32), Output()), _do…"
      ]
     },
     "metadata": {},
     "output_type": "display_data"
    },
    {
     "data": {
      "application/vnd.jupyter.widget-view+json": {
       "model_id": "79914f4420b849c3a25247f2351d8e99",
       "version_major": 2,
       "version_minor": 0
      },
      "text/plain": [
       "interactive(children=(IntSlider(value=0, continuous_update=False, description='depth', max=32), Output()), _do…"
      ]
     },
     "metadata": {},
     "output_type": "display_data"
    },
    {
     "data": {
      "application/vnd.jupyter.widget-view+json": {
       "model_id": "ae5253b5abbb408d8cf859f0230cfeb0",
       "version_major": 2,
       "version_minor": 0
      },
      "text/plain": [
       "interactive(children=(IntSlider(value=13, continuous_update=False, description='depth', max=32), Output()), _d…"
      ]
     },
     "metadata": {},
     "output_type": "display_data"
    },
    {
     "data": {
      "text/plain": [
       "<function __main__.glodap_pTemp(depth_index)>"
      ]
     },
     "execution_count": 6,
     "metadata": {},
     "output_type": "execute_result"
    }
   ],
   "source": [
    "##########################\n",
    "#\n",
    "# glodap widget explorer: See what happens to each parameter with depth\n",
    "#\n",
    "##########################\n",
    "\n",
    "# Usage notes\n",
    "#   If this cell produces 'OSError: no files to open' you may need to run the data loader in the cell below. The\n",
    "#   objective is to have the three NetCDF files resident in /data/glodap or in ~/data/glodap. See the comment\n",
    "#   at the top of this file on two different Jupyterlab server cases. Also ensure data_dir is built correctly.\n",
    "#\n",
    "#   The slider for each image changes the depth of the data view. When a region becomes white: This is because the ocean does \n",
    "#     not go that deep in that location. This feature can be used to highlight the mid-oceanic ridges for example. \n",
    "\n",
    "glodapTemperatureFnm = data_dir + '/glodap/glodap_temperature.nc'\n",
    "glodapSalinityFnm    = data_dir + '/glodap/glodap_salinity.nc'\n",
    "glodapOxygenFnm      = data_dir + '/glodap/glodap_oxygen.nc'\n",
    "\n",
    "glodap_dsSal  = xr.open_mfdataset(glodapSalinityFnm, combine='by_coords')\n",
    "glodap_dsTemp = xr.open_mfdataset(glodapTemperatureFnm, combine='by_coords')\n",
    "glodap_dsO2   = xr.open_mfdataset(glodapOxygenFnm, combine='by_coords')\n",
    "\n",
    "plt.rcParams.update({'font.size': 20})\n",
    "\n",
    "def glodap_pO2(depth_index):\n",
    "    glodap_dsO2['oxygen'].sel(depth_surface = depth_index).plot(figsize=(16, 10),cmap=cmocean.cm.oxy,vmin=150, vmax=350)\n",
    "    if depth_index == 0: msg = 'This is for surface water'\n",
    "    else:                msg = 'This is for water at ' + str(int(glodap_dsO2['Depth'].values[depth_index])) + ' meters depth'\n",
    "    plt.text(25, -87, msg); plt.text(28, 50, 'oxygen dissolved in'); plt.text(28, 42, '     ocean water   ')\n",
    "\n",
    "def glodap_pSal(depth_index):\n",
    "    glodap_dsSal['salinity'].sel(depth_surface = depth_index).plot(figsize=(16, 10),cmap=cmocean.cm.haline,vmin=33, vmax=36)\n",
    "    if depth_index == 0:msg = 'This is for surface water'\n",
    "    else: msg = 'This is for water at ' + str(int(glodap_dsSal['Depth'].values[depth_index])) + ' meters depth'\n",
    "    plt.text(25, -87, msg); plt.text(47, 50, 'salinity of'); plt.text(47, 42, 'ocean water')\n",
    "\n",
    "def glodap_pTemp(depth_index):\n",
    "    glodap_dsTemp['temperature'].sel(depth_surface = depth_index).plot(figsize=(16, 10),cmap=cmocean.cm.thermal,vmin=2., vmax=10.)\n",
    "    if depth_index == 0: msg = 'This is for surface water'\n",
    "    else: msg = 'This is for water at ' + str(int(glodap_dsTemp['Depth'].values[depth_index])) + ' meters depth'\n",
    "    plt.text(25, -87, msg); plt.text(47, 50, 'temperature of'); plt.text(47, 42, 'ocean water')\n",
    "\n",
    "interact(glodap_pO2,   depth_index=widgets.IntSlider(min=0, max=32, step=1, value=5,  continuous_update=False, description='depth'))\n",
    "interact(glodap_pSal,  depth_index=widgets.IntSlider(min=0, max=32, step=1, value=0,  continuous_update=False, description='depth'))\n",
    "interact(glodap_pTemp, depth_index=widgets.IntSlider(min=0, max=32, step=1, value=13, continuous_update=False, description='depth'))\n"
   ]
  },
  {
   "cell_type": "code",
   "execution_count": 12,
   "metadata": {},
   "outputs": [],
   "source": [
    "#######################################################################################\n",
    "#\n",
    "# Data loader for Glodap data\n",
    "# \n",
    "# This code block is commented out. It gets the three data files from object storage on\n",
    "#   the AWS public cloud. The data may at some point be discontinued at that location\n",
    "#   but it is openly available through the GLODAP website.\n",
    "#\n",
    "# \n",
    "# Citation: Lauvset, S. K., Key, R. M., Olsen, A., van Heuven, S., \n",
    "#   Velo, A., Lin, X., Schirnick, C., Kozyr, A., Tanhua, T., Hoppema, \n",
    "#   M., Jutterström, S., Steinfeldt, R., Jeansson, E., Ishii, M., \n",
    "#   Perez, F. F., Suzuki, T., and Watelet, S.: \n",
    "#   A new global interior ocean mapped climatology: the 1° ×  1° GLODAP \n",
    "#   version 2, Earth Syst. Sci. Data, 8, 325–340, \n",
    "#   https://doi.org/10.5194/essd-8-325-2016, 2016.\n",
    "# \n",
    "#   from https://www.earth-syst-sci-data.net/8/325/2016/\n",
    "#\n",
    "# Open issue: Does this 2016 dataset supersede the World Ocean Atlas as described at\n",
    "#   https://climatedataguide.ucar.edu/climate-data/world-ocean-atlas-2013-woa13?\n",
    "#\n",
    "#\n",
    "# If necessary: Install the boto library\n",
    "# !conda install boto -y\n",
    "#\n",
    "# This code copies data files from AWS Object Storage (S3) to the local directory\n",
    "\n",
    "\n",
    "\n",
    "if False:         # disabled once the datasets are loaded into /data/glodap\n",
    "\n",
    "    \n",
    "    \n",
    "    glodapTemperatureFnm = data_dir + '/glodap/glodap_temperature.nc'\n",
    "    glodapSalinityFnm    = data_dir + '/glodap/glodap_salinity.nc'\n",
    "    glodapOxygenFnm      = data_dir + '/glodap/glodap_oxygen.nc'\n",
    "\n",
    "    import boto\n",
    "    from boto.s3.key import Key\n",
    "\n",
    "    connection = boto.connect_s3(anon=True)\n",
    "    bucket = connection.get_bucket('himatdata')\n",
    "\n",
    "    for key in bucket.list(): \n",
    "        filename = key.name.encode('utf-8')\n",
    "        if b'glodap' in filename: \n",
    "            if b'salinity.nc' in filename: \n",
    "                print ('salinity file is', filename)\n",
    "                salinityfilename = filename\n",
    "            if b'temperature.nc' in filename: \n",
    "                print ('temperature file is', filename)\n",
    "                temperaturefilename = filename\n",
    "            if b'oxygen.nc' in filename: \n",
    "                print('oxygen file is', filename)\n",
    "                oxygenfilename = filename            \n",
    "\n",
    "    k = Key(bucket)\n",
    "    k.key = salinityfilename\n",
    "    k.get_contents_to_filename(glodapSalinityFnm)\n",
    "    k.key = temperaturefilename\n",
    "    k.get_contents_to_filename(glodapTemperatureFnm)\n",
    "    k.key = oxygenfilename\n",
    "    k.get_contents_to_filename(glodapOxygenFnm)\n",
    "\n",
    "    print('\\ndata load complete for glodap')"
   ]
  },
  {
   "cell_type": "markdown",
   "metadata": {},
   "source": [
    "## Data exploration\n",
    "\n",
    "Here is some code to explore the data structure we used above; in a more technical 'how does this work?' sort of way."
   ]
  },
  {
   "cell_type": "code",
   "execution_count": 13,
   "metadata": {},
   "outputs": [
    {
     "name": "stdout",
     "output_type": "stream",
     "text": [
      "1 X 1 global mapped field of dissolved molecular oxygen from the GLODAPv2 data product. Mapping is performed using the DIVA software (Troupin et al., 2012). Error fields are calculated using the clever poor mans error calculation method in DIVA (Beckers et al., 2014). The error fields represent the mapping error only, and does not include measurement or calculation uncertainties in the input data.\n",
      "\n",
      "\n",
      "Cite as: Lauvset, Siv K., Key, Robert M., Olsen, Are, van Heuven, Steven, Velo, Anton, Lin, Xiaohua, Schirnick, Carsten, Kozyr, Alex, Tanhua, Toste, Hoppema, Mario, Jutterstrom, Sara, Steinfeldt, Reiner, Jeansson, Emil, Ishii, Masao, Perez, Fiz F., Suzuki, Toru, and Watelet, Sylvain: A new global interior ocean mapped climatology: the 1x1 GLODAP version 2, Earth Syst. Sci. Data. Discuss., doi:10.5194/essd-2015-43, in review, 2016.\n",
      "\n",
      "micro-mol kg-1\n"
     ]
    }
   ],
   "source": [
    "print(glodap_dsO2.Description)\n",
    "print('\\n')\n",
    "print(glodap_dsO2.Citation)\n",
    "dir(glodap_dsO2.oxygen.units)\n",
    "print(\"\\n\" + glodap_dsO2.oxygen.units)"
   ]
  },
  {
   "cell_type": "code",
   "execution_count": 14,
   "metadata": {},
   "outputs": [
    {
     "name": "stdout",
     "output_type": "stream",
     "text": [
      "A multi-dimensional, in memory, array database.\n",
      "\n",
      "A dataset resembles an in-memory representation of a NetCDF file, and\n",
      "consists of variables, coordinates and attributes which together form a\n",
      "self describing dataset.\n",
      "\n",
      "Dataset implements the mapping interface with keys given by variable names\n",
      "and values given by DataArray objects for each variable name.\n",
      "\n",
      "One dimensional variables with name equal to their dimension are index\n",
      "coordinates used for label based indexing.\n"
     ]
    }
   ],
   "source": [
    "import inspect\n",
    "print(inspect.getdoc(glodap_dsO2))"
   ]
  },
  {
   "cell_type": "code",
   "execution_count": 15,
   "metadata": {},
   "outputs": [
    {
     "data": {
      "text/plain": [
       "array([[[197.85690308, 196.35029602],\n",
       "        [197.01686096, 195.4756012 ]],\n",
       "\n",
       "       [[197.91693115, 196.32531738],\n",
       "        [197.07067871, 195.68740845]]])"
      ]
     },
     "execution_count": 15,
     "metadata": {},
     "output_type": "execute_result"
    }
   ],
   "source": [
    "glodap_dsO2['oxygen'][0:2,90:92,120:122].values"
   ]
  },
  {
   "cell_type": "code",
   "execution_count": 16,
   "metadata": {},
   "outputs": [
    {
     "name": "stdout",
     "output_type": "stream",
     "text": [
      "-0.531661301580607\n",
      "28.092354032993317\n"
     ]
    }
   ],
   "source": [
    "print(glodap_dsTemp['temperature'][0,20:24,160:200].values.mean())   \n",
    "print(glodap_dsTemp['temperature'][0,80:100,160:200].values.mean())"
   ]
  },
  {
   "cell_type": "code",
   "execution_count": null,
   "metadata": {},
   "outputs": [],
   "source": []
  }
 ],
 "metadata": {
  "kernelspec": {
   "display_name": "Python 3",
   "language": "python",
   "name": "python3"
  },
  "language_info": {
   "codemirror_mode": {
    "name": "ipython",
    "version": 3
   },
   "file_extension": ".py",
   "mimetype": "text/x-python",
   "name": "python",
   "nbconvert_exporter": "python",
   "pygments_lexer": "ipython3",
   "version": "3.8.3"
  }
 },
 "nbformat": 4,
 "nbformat_minor": 4
}
