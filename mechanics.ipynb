{
 "cells": [
  {
   "cell_type": "markdown",
   "metadata": {},
   "source": [
    "# Mechanics\n",
    "\n",
    "## Introduction\n",
    "\n",
    "\n",
    "This notebook explains some of those tricky little details that come up in the course of looking into the data.\n",
    "\n",
    "\n",
    "I will abbreviate references to the **Python Data Science Handbook** by Jake VanderPlas using 'PDSH', \n",
    "possibly followed by a page number or other qualifier. \n",
    "\n",
    "\n",
    "## Time\n",
    "\n",
    "See PDSH-189. There are two time mechanisms in play: Python's built-in `datetime` and an improvement called\n",
    "`datetime64` from **numpy** that enables *arrays* of dates, i.e. time series. \n",
    "\n",
    "\n",
    "Consider these two ways of stipulating time slice arguments for `.sel()` applied to a DataSet.\n",
    "First:  Use a datetime64 with precision to minutes (or finer).\n",
    "Second: Pass strings that are interpreted as days, inclusive. In pseudo-code: \n",
    "\n",
    "```\n",
    "if do_precision:  \n",
    "   t0 = dt64('2019-06-01T00:00')\n",
    "   t1 = dt64('2019-06-01T05:20')\n",
    "   dss = ds.sel(time=slice(t0, t1))   \n",
    "else:\n",
    "    day1 = '24'\n",
    "    day2 = '27'              # will be 'day 27 inclusive' giving four days of results\n",
    "    dss = ds.sel(time=slice('2019-06-' + day1, '2019-08-' + day2))\n",
    "\n",
    "len(dss.time)\n",
    "```"
   ]
  },
  {
   "cell_type": "code",
   "execution_count": 1,
   "metadata": {},
   "outputs": [],
   "source": [
    "# Two ways of stipulating time slice arguments for a Dataset .sel()\n",
    "#   First uses a datetime64 and is precise to minutes (or finer)\n",
    "#   Second passes strings that are interpreted as days, inclusive\n",
    "#\n",
    "# if do_precision:  \n",
    "#    t0 = dt64('2019-06-01T00:00')\n",
    "#    t1 = dt64('2019-06-01T05:20')\n",
    "#    dss = ds.sel(time=slice(t0, t1))   \n",
    "# else:\n",
    "#     day1 = '24'\n",
    "#     day2 = '27'              # will be 'day 27 inclusive' giving four days of results\n",
    "#     dss = ds.sel(time=slice('2019-06-' + day1, '2019-08-' + day2))\n",
    "# len(dss.time)"
   ]
  },
  {
   "cell_type": "markdown",
   "metadata": {},
   "source": [
    "## Instrument Duty Cycles\n",
    "\n",
    "For any instrument there is the question 'when is this on, what does it measure, and how frequently?'\n",
    "\n",
    "This section was motivated by the optical spectrophotometer. How do we go from knowing next to nothing to having an accurate picture? Obviously start with `ds`... but then what?"
   ]
  },
  {
   "cell_type": "markdown",
   "metadata": {},
   "source": [
    "## Grid of plots\n",
    "\n",
    "Source: `data_gallery.ipynb`.  \n",
    "\n",
    "\n",
    "```\n",
    "rn = range(9); rsi = range(7)\n",
    "\n",
    "p,a=plt.subplots(3, 3, figsize=(14,14))\n",
    "plt.rcParams.update({'font.size': 10})\n",
    "a[0,0].plot(ctdF.time, ctdF.depth, color='r');                                  a[0,0].set(ylim=(200.,0.), title='Depth')\n",
    "a[0,1].plot(ctdF.time, ctdF.salinity, color='k');                               a[0,1].set(title='Salinity')\n",
    "a[0,2].plot(ctdF.time, ctdF.temperature, color='b');                            a[0,2].set(title='Temperature')\n",
    "a[1,0].plot(ctdF.time, ctdF.dissolved_oxygen, color='b');                       a[1,0].set(title='Dissolved Oxygen')\n",
    "a[1,1].scatter(phF.time.values, phF.ph_seawater.values, color='r');             a[1,1].set(title='pH')\n",
    "a[1,2].scatter(nitrateF.time.values, nitrateF.scn.values, color='k');           a[1,2].set(title='Nitrate')\n",
    "a[2,0].plot(parF.time, parF.par_counts_output, color='k');                      a[2,0].set(title='Photosynthetic Light')\n",
    "a[2,1].plot(fluorF.time, fluorF.fluorometric_chlorophyll_a, color='b');         a[2,1].set(title='Chlorophyll')\n",
    "a[2,2].plot(siF.time, siF.si0, color='r');                                      a[2,2].set(title='Spectral Irradiance')\n",
    "\n",
    "a[2,0].text(dt64('2017-08-21T07:30'), 155., 'local midnight', rotation=90, fontsize=15, color='blue', fontweight='bold')\n",
    "a[2,2].text(dt64('2017-08-21T07:30'), 4.25, 'local midnight', rotation=90, fontsize=15, color='blue', fontweight='bold')\n",
    "\n",
    "tFmt   = mdates.DateFormatter(\"%H\")                 # an extended format for strftime() is \"%d/%m/%y %H:%M\"\n",
    "t0, t1 = ctdF.time[0].values, ctdF.time[-1].values  # establish same time range for each chart\n",
    "tticks = [dt64('2017-08-21T06:00'), dt64('2017-08-21T12:00'), dt64('2017-08-21T18:00')]\n",
    "\n",
    "for i in rn: j, k = i//3, i%3; a[j, k].set(xlim=(t0, t1),xticks=tticks); a[j, k].xaxis.set_major_formatter(tFmt)\n",
    "print('')\n",
    "```"
   ]
  },
  {
   "cell_type": "code",
   "execution_count": null,
   "metadata": {},
   "outputs": [],
   "source": []
  }
 ],
 "metadata": {
  "kernelspec": {
   "display_name": "Python 3",
   "language": "python",
   "name": "python3"
  },
  "language_info": {
   "codemirror_mode": {
    "name": "ipython",
    "version": 3
   },
   "file_extension": ".py",
   "mimetype": "text/x-python",
   "name": "python",
   "nbconvert_exporter": "python",
   "pygments_lexer": "ipython3",
   "version": "3.8.3"
  }
 },
 "nbformat": 4,
 "nbformat_minor": 4
}
