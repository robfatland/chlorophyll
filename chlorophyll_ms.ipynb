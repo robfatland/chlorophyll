{
 "cells": [
  {
   "cell_type": "markdown",
   "metadata": {},
   "source": [
    "# Chlorophyll\n",
    "\n",
    "<BR>\n",
    "<img src=\"./images/misc/revelle.jpg\" style=\"float: left;\" alt=\"drawing\" width=\"900\"/>\n",
    "<div style=\"clear: left\"><BR>\n",
    "\n",
    "\n",
    "This is the research vessel R/V Revelle at work in the southern ocean near a tabular iceberg. \n",
    "The vessel is just under 100 meters in length. \n",
    "Ninety percent of the iceberg is under the surface of the water. \n",
    "\n",
    "\n",
    "## Introduction\n",
    "\n",
    "    \n",
    "This Jupyter notebook explores the upper 200 meters of the ocean near the coast of Oregon.\n",
    "We are particularly interested in the phytoplankton that use chlorophyll to store energy from the sun.\n",
    "For more on this please visit the [Interactive Oceans](https://interactiveoceans.washington.edu) portal.\n",
    "\n",
    "### Guide to notebook material and intended audience\n",
    "\n",
    "* The narrative here is intended for middle school students. \n",
    "\n",
    "\n",
    "### Locations on a map\n",
    "    \n",
    "    \n",
    "Here are the three data measurement sites within the Regional Cabled Array (RCA)\n",
    "   \n",
    "    \n",
    "Shallow profilers\n",
    "\n",
    "```\n",
    "Site name               Lat               Lon\n",
    "------------------      ---               ---\n",
    "Oregon Offshore         44.37415          -124.95648\n",
    "Oregon Slope Base       44.52897          -125.38966 \n",
    "Axial Base              45.83049          -129.75326\n",
    "```   \n",
    "\n",
    "<BR>\n",
    "<img src=\"https://s3-us-west-2.amazonaws.com/media.ooica.net/wp-content/uploads/2019/01/11005601/screenshot2018-12-07at1.55.21pm.png\"\n",
    " align=\"float: left\"\n",
    " width=\"30%\"\n",
    " alt=\"Regional Cabled Array image\">\n",
    "<BR>\n",
    "\n",
    "A camera is installed on the sea floor by a robot."
   ]
  },
  {
   "cell_type": "code",
   "execution_count": 1,
   "metadata": {},
   "outputs": [
    {
     "name": "stdout",
     "output_type": "stream",
     "text": [
      "\n",
      "Jupyter Notebook running Python 3\n",
      "the data directory is /data/ \n",
      "\n"
     ]
    }
   ],
   "source": [
    "# mini-source control\n",
    "# copied 29-SEP-202: to tilt* and chlorophyll*\n",
    "\n",
    "pangeo_jupyter = False\n",
    "\n",
    "import os\n",
    "import sys\n",
    "import time\n",
    "import glob           # list files in a directory\n",
    "\n",
    "home_dir = os.getenv(\"HOME\")\n",
    "this_dir = home_dir + '/chlorophyll/'\n",
    "\n",
    "if pangeo_jupyter: data_dir = home_dir + '/data/'\n",
    "else: data_dir = '/data/'\n",
    "\n",
    "print('\\nJupyter Notebook running Python {}'.format(sys.version_info[0]))\n",
    "print('the data directory is', data_dir, '\\n')\n",
    "\n",
    "# Some notes on writing movies (ongoing project)\n",
    "#     This may be necessary on Pangeo: conda install -c conda-forge ffmpeg -y -q       \n",
    "#       ... noting that -y skips dialogs; -q reduces stdout clutter\n",
    "#     Note: On Pangeo `which ffmpeg` returns `/srv/conda/envs/notebook/bin/ffmpeg`\n",
    "#       ... plt.rcParams['animation.ffmpeg_path'] = '/srv/conda/envs/notebook/bin/ffmpeg' \n",
    "#       ... (matplotlib must see the movie writer 'ffmpeg')\n",
    "\n",
    "from matplotlib import pyplot as plt\n",
    "from matplotlib import colors as mplcolors   # map data values to colors\n",
    "\n",
    "import warnings\n",
    "# turn off warnings using: warnings.filterwarnings(\"ignore\")\n",
    "\n",
    "import numpy as np\n",
    "from numpy import datetime64 as dt64, timedelta64 as td64\n",
    "import pandas as pd\n",
    "import xarray as xr\n",
    "\n",
    "# doy = day of year, indexed from 1 (1-JAN)\n",
    "# Day of year calculated directly from a datetime64\n",
    "def doy(theDatetime): return 1 + int((theDatetime - dt64(str(theDatetime)[0:4] + '-01-01')) / td64(1, 'D'))\n",
    "def dt64_from_doy(year, doy): return dt64(str(year) + '-01-01') + td64(doy-1, 'D')"
   ]
  },
  {
   "cell_type": "code",
   "execution_count": null,
   "metadata": {},
   "outputs": [],
   "source": []
  }
 ],
 "metadata": {
  "kernelspec": {
   "display_name": "Python 3",
   "language": "python",
   "name": "python3"
  },
  "language_info": {
   "codemirror_mode": {
    "name": "ipython",
    "version": 3
   },
   "file_extension": ".py",
   "mimetype": "text/x-python",
   "name": "python",
   "nbconvert_exporter": "python",
   "pygments_lexer": "ipython3",
   "version": "3.8.3"
  }
 },
 "nbformat": 4,
 "nbformat_minor": 4
}
