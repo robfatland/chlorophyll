{
 "cells": [
  {
   "cell_type": "markdown",
   "metadata": {},
   "source": [
    "# Chlorophyll Background\n",
    "\n",
    "Notebook on behind-the-scenes construction of `chlorophyll.ipynb`. "
   ]
  },
  {
   "cell_type": "code",
   "execution_count": 1,
   "metadata": {},
   "outputs": [
    {
     "name": "stdout",
     "output_type": "stream",
     "text": [
      "\n",
      "Jupyter Notebook running Python 3\n",
      "the data directory is /data/ \n",
      "\n"
     ]
    }
   ],
   "source": [
    "# mini-source control\n",
    "# copied 29-SEP-202: to tilt* and chlorophyll*\n",
    "\n",
    "pangeo_jupyter = False\n",
    "\n",
    "import os\n",
    "import sys\n",
    "import time\n",
    "import glob           # list files in a directory\n",
    "\n",
    "home_dir = os.getenv(\"HOME\")\n",
    "this_dir = home_dir + '/chlorophyll/'\n",
    "\n",
    "if pangeo_jupyter: data_dir = home_dir + '/data/'\n",
    "else: data_dir = '/data/'\n",
    "\n",
    "print('\\nJupyter Notebook running Python {}'.format(sys.version_info[0]))\n",
    "print('the data directory is', data_dir, '\\n')\n",
    "\n",
    "# Some notes on writing movies (ongoing project)\n",
    "#     This may be necessary on Pangeo: conda install -c conda-forge ffmpeg -y -q       \n",
    "#       ... noting that -y skips dialogs; -q reduces stdout clutter\n",
    "#     Note: On Pangeo `which ffmpeg` returns `/srv/conda/envs/notebook/bin/ffmpeg`\n",
    "#       ... plt.rcParams['animation.ffmpeg_path'] = '/srv/conda/envs/notebook/bin/ffmpeg' \n",
    "#       ... (matplotlib must see the movie writer 'ffmpeg')\n",
    "\n",
    "from matplotlib import pyplot as plt\n",
    "from matplotlib import colors as mplcolors   # map data values to colors\n",
    "\n",
    "import warnings\n",
    "# turn off warnings using: warnings.filterwarnings(\"ignore\")\n",
    "\n",
    "import numpy as np\n",
    "from numpy import datetime64 as dt64, timedelta64 as td64\n",
    "import pandas as pd\n",
    "import xarray as xr\n",
    "\n",
    "# doy = day of year, indexed from 1 (1-JAN)\n",
    "# Day of year calculated directly from a datetime64\n",
    "def doy(theDatetime): return 1 + int((theDatetime - dt64(str(theDatetime)[0:4] + '-01-01')) / td64(1, 'D'))\n",
    "def dt64_from_doy(year, doy): return dt64(str(year) + '-01-01') + td64(doy-1, 'D')"
   ]
  },
  {
   "cell_type": "code",
   "execution_count": null,
   "metadata": {},
   "outputs": [],
   "source": []
  }
 ],
 "metadata": {
  "kernelspec": {
   "display_name": "Python 3",
   "language": "python",
   "name": "python3"
  },
  "language_info": {
   "codemirror_mode": {
    "name": "ipython",
    "version": 3
   },
   "file_extension": ".py",
   "mimetype": "text/x-python",
   "name": "python",
   "nbconvert_exporter": "python",
   "pygments_lexer": "ipython3",
   "version": "3.8.3"
  }
 },
 "nbformat": 4,
 "nbformat_minor": 4
}
